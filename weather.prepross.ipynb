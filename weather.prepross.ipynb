{
 "cells": [
  {
   "cell_type": "markdown",
   "id": "b5d2c69d",
   "metadata": {},
   "source": [
    "Importing important libraries:"
   ]
  },
  {
   "cell_type": "code",
   "execution_count": 257,
   "id": "26bfcae2",
   "metadata": {},
   "outputs": [],
   "source": [
    "import pandas\n",
    "import numpy\n",
    "from sklearn.model_selection import train_test_split\n",
    "from sklearn.preprocessing import MinMaxScaler"
   ]
  },
  {
   "cell_type": "markdown",
   "id": "2909dd70",
   "metadata": {},
   "source": [
    "Acquiring dataset and making a dataframe:"
   ]
  },
  {
   "cell_type": "code",
   "execution_count": 258,
   "id": "851bc008",
   "metadata": {},
   "outputs": [],
   "source": [
    "weather = pandas.read_csv(\"/Users/anay/Desktop/RoboManipal/RoboManipal_Anay/Data_Preprocessing/weatherAUS.csv\")\n",
    "weatherdf = pandas.DataFrame(weather)"
   ]
  },
  {
   "cell_type": "markdown",
   "id": "18545e21",
   "metadata": {},
   "source": [
    "Getting basic overview of the data:"
   ]
  },
  {
   "cell_type": "code",
   "execution_count": 259,
   "id": "9bf52c19",
   "metadata": {},
   "outputs": [
    {
     "name": "stdout",
     "output_type": "stream",
     "text": [
      "<class 'pandas.core.frame.DataFrame'>\n",
      "RangeIndex: 145460 entries, 0 to 145459\n",
      "Data columns (total 23 columns):\n",
      " #   Column         Non-Null Count   Dtype  \n",
      "---  ------         --------------   -----  \n",
      " 0   Date           145460 non-null  object \n",
      " 1   Location       145460 non-null  object \n",
      " 2   MinTemp        143975 non-null  float64\n",
      " 3   MaxTemp        144199 non-null  float64\n",
      " 4   Rainfall       142199 non-null  float64\n",
      " 5   Evaporation    82670 non-null   float64\n",
      " 6   Sunshine       75625 non-null   float64\n",
      " 7   WindGustDir    135134 non-null  object \n",
      " 8   WindGustSpeed  135197 non-null  float64\n",
      " 9   WindDir9am     134894 non-null  object \n",
      " 10  WindDir3pm     141232 non-null  object \n",
      " 11  WindSpeed9am   143693 non-null  float64\n",
      " 12  WindSpeed3pm   142398 non-null  float64\n",
      " 13  Humidity9am    142806 non-null  float64\n",
      " 14  Humidity3pm    140953 non-null  float64\n",
      " 15  Pressure9am    130395 non-null  float64\n",
      " 16  Pressure3pm    130432 non-null  float64\n",
      " 17  Cloud9am       89572 non-null   float64\n",
      " 18  Cloud3pm       86102 non-null   float64\n",
      " 19  Temp9am        143693 non-null  float64\n",
      " 20  Temp3pm        141851 non-null  float64\n",
      " 21  RainToday      142199 non-null  object \n",
      " 22  RainTomorrow   142193 non-null  object \n",
      "dtypes: float64(16), object(7)\n",
      "memory usage: 25.5+ MB\n",
      "None\n"
     ]
    }
   ],
   "source": [
    "print(weather.info())"
   ]
  },
  {
   "cell_type": "markdown",
   "id": "81de4f6e",
   "metadata": {},
   "source": [
    "I am first going to only focus on filling NaN values in int64 and float64 type columns. According to the kaggle article, we need to drop all the columns where there is more than 75% missing data, we do not have any such columns so we will instead try to fill them up."
   ]
  },
  {
   "cell_type": "markdown",
   "id": "6cbe6ef2",
   "metadata": {},
   "source": [
    "In order to fill the missing values, I will first see the different ranges of values present in each column."
   ]
  },
  {
   "cell_type": "code",
   "execution_count": 260,
   "id": "058ead74",
   "metadata": {},
   "outputs": [
    {
     "name": "stdout",
     "output_type": "stream",
     "text": [
      "MinTemp\n",
      "count    143975.000000\n",
      "mean         12.194034\n",
      "std           6.398495\n",
      "min          -8.500000\n",
      "25%           7.600000\n",
      "50%          12.000000\n",
      "75%          16.900000\n",
      "max          33.900000\n",
      "Name: MinTemp, dtype: float64\n",
      "MaxTemp\n",
      "count    144199.000000\n",
      "mean         23.221348\n",
      "std           7.119049\n",
      "min          -4.800000\n",
      "25%          17.900000\n",
      "50%          22.600000\n",
      "75%          28.200000\n",
      "max          48.100000\n",
      "Name: MaxTemp, dtype: float64\n",
      "Rainfall\n",
      "count    142199.000000\n",
      "mean          2.360918\n",
      "std           8.478060\n",
      "min           0.000000\n",
      "25%           0.000000\n",
      "50%           0.000000\n",
      "75%           0.800000\n",
      "max         371.000000\n",
      "Name: Rainfall, dtype: float64\n",
      "WindGustSpeed\n",
      "count    135197.000000\n",
      "mean         40.035230\n",
      "std          13.607062\n",
      "min           6.000000\n",
      "25%          31.000000\n",
      "50%          39.000000\n",
      "75%          48.000000\n",
      "max         135.000000\n",
      "Name: WindGustSpeed, dtype: float64\n",
      "WindSpeed9am\n",
      "count    143693.000000\n",
      "mean         14.043426\n",
      "std           8.915375\n",
      "min           0.000000\n",
      "25%           7.000000\n",
      "50%          13.000000\n",
      "75%          19.000000\n",
      "max         130.000000\n",
      "Name: WindSpeed9am, dtype: float64\n",
      "WindSpeed3pm\n",
      "count    142398.000000\n",
      "mean         18.662657\n",
      "std           8.809800\n",
      "min           0.000000\n",
      "25%          13.000000\n",
      "50%          19.000000\n",
      "75%          24.000000\n",
      "max          87.000000\n",
      "Name: WindSpeed3pm, dtype: float64\n",
      "Humidity9am\n",
      "count    142806.000000\n",
      "mean         68.880831\n",
      "std          19.029164\n",
      "min           0.000000\n",
      "25%          57.000000\n",
      "50%          70.000000\n",
      "75%          83.000000\n",
      "max         100.000000\n",
      "Name: Humidity9am, dtype: float64\n",
      "Humidity3pm\n",
      "count    140953.000000\n",
      "mean         51.539116\n",
      "std          20.795902\n",
      "min           0.000000\n",
      "25%          37.000000\n",
      "50%          52.000000\n",
      "75%          66.000000\n",
      "max         100.000000\n",
      "Name: Humidity3pm, dtype: float64\n",
      "Pressure9am\n",
      "count    130395.00000\n",
      "mean       1017.64994\n",
      "std           7.10653\n",
      "min         980.50000\n",
      "25%        1012.90000\n",
      "50%        1017.60000\n",
      "75%        1022.40000\n",
      "max        1041.00000\n",
      "Name: Pressure9am, dtype: float64\n",
      "Pressure3pm\n",
      "count    130432.000000\n",
      "mean       1015.255889\n",
      "std           7.037414\n",
      "min         977.100000\n",
      "25%        1010.400000\n",
      "50%        1015.200000\n",
      "75%        1020.000000\n",
      "max        1039.600000\n",
      "Name: Pressure3pm, dtype: float64\n",
      "Temp9am\n",
      "count    143693.000000\n",
      "mean         16.990631\n",
      "std           6.488753\n",
      "min          -7.200000\n",
      "25%          12.300000\n",
      "50%          16.700000\n",
      "75%          21.600000\n",
      "max          40.200000\n",
      "Name: Temp9am, dtype: float64\n",
      "Temp3pm\n",
      "count    141851.00000\n",
      "mean         21.68339\n",
      "std           6.93665\n",
      "min          -5.40000\n",
      "25%          16.60000\n",
      "50%          21.10000\n",
      "75%          26.40000\n",
      "max          46.70000\n",
      "Name: Temp3pm, dtype: float64\n"
     ]
    }
   ],
   "source": [
    "less_missing_columns_intfloat = [\"MinTemp\", \"MaxTemp\", \"Rainfall\", \"WindGustSpeed\", \"WindSpeed9am\", \"WindSpeed3pm\", \"Humidity9am\", \"Humidity3pm\", \"Pressure9am\", \"Pressure3pm\", \"Temp9am\", \"Temp3pm\"]\n",
    "\n",
    "for i in less_missing_columns_intfloat:\n",
    "    print(i)\n",
    "    print(weatherdf[i].describe())"
   ]
  },
  {
   "cell_type": "markdown",
   "id": "6b61ae2e",
   "metadata": {},
   "source": [
    "Now lets find missing values"
   ]
  },
  {
   "cell_type": "code",
   "execution_count": 261,
   "id": "ef948144",
   "metadata": {},
   "outputs": [
    {
     "data": {
      "text/plain": [
       "Date                 0\n",
       "Location             0\n",
       "MinTemp           1485\n",
       "MaxTemp           1261\n",
       "Rainfall          3261\n",
       "Evaporation      62790\n",
       "Sunshine         69835\n",
       "WindGustDir      10326\n",
       "WindGustSpeed    10263\n",
       "WindDir9am       10566\n",
       "WindDir3pm        4228\n",
       "WindSpeed9am      1767\n",
       "WindSpeed3pm      3062\n",
       "Humidity9am       2654\n",
       "Humidity3pm       4507\n",
       "Pressure9am      15065\n",
       "Pressure3pm      15028\n",
       "Cloud9am         55888\n",
       "Cloud3pm         59358\n",
       "Temp9am           1767\n",
       "Temp3pm           3609\n",
       "RainToday         3261\n",
       "RainTomorrow      3267\n",
       "dtype: int64"
      ]
     },
     "execution_count": 261,
     "metadata": {},
     "output_type": "execute_result"
    }
   ],
   "source": [
    "weatherdf.isnull().sum()"
   ]
  },
  {
   "cell_type": "markdown",
   "id": "b98ec96d",
   "metadata": {},
   "source": [
    "ok, now i will find which of these columns i will need to drop, i think 1.4 lakh are significant enough amount of samples to not have bias, so whatever column has 75% of its values missing will be dropped."
   ]
  },
  {
   "cell_type": "code",
   "execution_count": 262,
   "id": "af4fb5fd",
   "metadata": {},
   "outputs": [
    {
     "data": {
      "text/plain": [
       "Date                 0\n",
       "Location             0\n",
       "MinTemp           1485\n",
       "MaxTemp           1261\n",
       "Rainfall          3261\n",
       "WindGustDir      10326\n",
       "WindGustSpeed    10263\n",
       "WindDir9am       10566\n",
       "WindDir3pm        4228\n",
       "WindSpeed9am      1767\n",
       "WindSpeed3pm      3062\n",
       "Humidity9am       2654\n",
       "Humidity3pm       4507\n",
       "Pressure9am      15065\n",
       "Pressure3pm      15028\n",
       "Temp9am           1767\n",
       "Temp3pm           3609\n",
       "RainToday         3261\n",
       "RainTomorrow      3267\n",
       "dtype: int64"
      ]
     },
     "execution_count": 262,
     "metadata": {},
     "output_type": "execute_result"
    }
   ],
   "source": [
    "drop_columns = [\"Evaporation\", \"Sunshine\", \"Cloud9am\", \"Cloud3pm\"]        \n",
    "weatherdf = weatherdf.drop(drop_columns, axis=1)\n",
    "weatherdf.isnull().sum()"
   ]
  },
  {
   "cell_type": "code",
   "execution_count": 263,
   "id": "2959bcf6",
   "metadata": {},
   "outputs": [
    {
     "name": "stdout",
     "output_type": "stream",
     "text": [
      "<class 'pandas.core.frame.DataFrame'>\n",
      "RangeIndex: 145460 entries, 0 to 145459\n",
      "Data columns (total 19 columns):\n",
      " #   Column         Non-Null Count   Dtype  \n",
      "---  ------         --------------   -----  \n",
      " 0   Date           145460 non-null  object \n",
      " 1   Location       145460 non-null  object \n",
      " 2   MinTemp        143975 non-null  float64\n",
      " 3   MaxTemp        144199 non-null  float64\n",
      " 4   Rainfall       142199 non-null  float64\n",
      " 5   WindGustDir    135134 non-null  object \n",
      " 6   WindGustSpeed  135197 non-null  float64\n",
      " 7   WindDir9am     134894 non-null  object \n",
      " 8   WindDir3pm     141232 non-null  object \n",
      " 9   WindSpeed9am   143693 non-null  float64\n",
      " 10  WindSpeed3pm   142398 non-null  float64\n",
      " 11  Humidity9am    142806 non-null  float64\n",
      " 12  Humidity3pm    140953 non-null  float64\n",
      " 13  Pressure9am    130395 non-null  float64\n",
      " 14  Pressure3pm    130432 non-null  float64\n",
      " 15  Temp9am        143693 non-null  float64\n",
      " 16  Temp3pm        141851 non-null  float64\n",
      " 17  RainToday      142199 non-null  object \n",
      " 18  RainTomorrow   142193 non-null  object \n",
      "dtypes: float64(12), object(7)\n",
      "memory usage: 21.1+ MB\n",
      "None\n"
     ]
    }
   ],
   "source": [
    "print(weatherdf.info())"
   ]
  },
  {
   "cell_type": "markdown",
   "id": "408f40d1",
   "metadata": {},
   "source": [
    "So now, i will remove the outliers."
   ]
  },
  {
   "cell_type": "code",
   "execution_count": 264,
   "id": "0e3b11ac",
   "metadata": {},
   "outputs": [],
   "source": [
    "weatherdf[\"Date\"] = pandas.to_datetime(weatherdf[\"Date\"], errors='coerce')\n",
    "\n",
    "numeric = weatherdf.select_dtypes(include=[numpy.number])\n",
    "iqr = weatherdf.quantile(0.75, numeric_only=True) - weatherdf.quantile(0.25, numeric_only=True)\n",
    "lim = numpy.abs((numeric - numeric.median()) / iqr) < 1.5\n",
    "weatherdf[numeric.columns] = numeric.where(lim, numpy.nan)"
   ]
  },
  {
   "cell_type": "markdown",
   "id": "b0b463d2",
   "metadata": {},
   "source": [
    "Now, finally lets fill the nans."
   ]
  },
  {
   "cell_type": "code",
   "execution_count": 265,
   "id": "ca7a25c5",
   "metadata": {},
   "outputs": [
    {
     "name": "stderr",
     "output_type": "stream",
     "text": [
      "/var/folders/mf/dh_37v4d2d9_9g1gc7qfmm740000gn/T/ipykernel_925/2592011918.py:2: FutureWarning: A value is trying to be set on a copy of a DataFrame or Series through chained assignment using an inplace method.\n",
      "The behavior will change in pandas 3.0. This inplace method will never work because the intermediate object on which we are setting values always behaves as a copy.\n",
      "\n",
      "For example, when doing 'df[col].method(value, inplace=True)', try using 'df.method({col: value}, inplace=True)' or df[col] = df[col].method(value) instead, to perform the operation inplace on the original object.\n",
      "\n",
      "\n",
      "  weatherdf[i].fillna(weatherdf[i].mean(), inplace=True)\n"
     ]
    }
   ],
   "source": [
    "for i in numeric.columns:\n",
    "    weatherdf[i].fillna(weatherdf[i].mean(), inplace=True)"
   ]
  },
  {
   "cell_type": "markdown",
   "id": "acb19c43",
   "metadata": {},
   "source": [
    "So i get the above error every time i try this. now i am just going to ignore it bc stack overflow says that it gets triggered as chain assignment when i am just overwriting values in a column. "
   ]
  },
  {
   "cell_type": "markdown",
   "id": "66c4374e",
   "metadata": {},
   "source": [
    "itll be good practice to check how many nans remain now."
   ]
  },
  {
   "cell_type": "code",
   "execution_count": 266,
   "id": "1f7f65f7",
   "metadata": {},
   "outputs": [
    {
     "data": {
      "text/plain": [
       "Date                 0\n",
       "Location             0\n",
       "MinTemp              0\n",
       "MaxTemp              0\n",
       "Rainfall             0\n",
       "WindGustDir      10326\n",
       "WindGustSpeed        0\n",
       "WindDir9am       10566\n",
       "WindDir3pm        4228\n",
       "WindSpeed9am         0\n",
       "WindSpeed3pm         0\n",
       "Humidity9am          0\n",
       "Humidity3pm          0\n",
       "Pressure9am          0\n",
       "Pressure3pm          0\n",
       "Temp9am              0\n",
       "Temp3pm              0\n",
       "RainToday         3261\n",
       "RainTomorrow      3267\n",
       "dtype: int64"
      ]
     },
     "execution_count": 266,
     "metadata": {},
     "output_type": "execute_result"
    }
   ],
   "source": [
    "weatherdf.isnull().sum()"
   ]
  },
  {
   "cell_type": "markdown",
   "id": "438c8d8a",
   "metadata": {},
   "source": [
    "ok, humidity for some reason isnt getting updated here, so ill just do that manually."
   ]
  },
  {
   "cell_type": "code",
   "execution_count": 267,
   "id": "071572e9",
   "metadata": {},
   "outputs": [
    {
     "name": "stderr",
     "output_type": "stream",
     "text": [
      "/var/folders/mf/dh_37v4d2d9_9g1gc7qfmm740000gn/T/ipykernel_925/2592692861.py:1: FutureWarning: A value is trying to be set on a copy of a DataFrame or Series through chained assignment using an inplace method.\n",
      "The behavior will change in pandas 3.0. This inplace method will never work because the intermediate object on which we are setting values always behaves as a copy.\n",
      "\n",
      "For example, when doing 'df[col].method(value, inplace=True)', try using 'df.method({col: value}, inplace=True)' or df[col] = df[col].method(value) instead, to perform the operation inplace on the original object.\n",
      "\n",
      "\n",
      "  weatherdf[\"Humidity9am\"].fillna(weatherdf[\"Humidity9am\"].mean(), inplace=True)\n",
      "/var/folders/mf/dh_37v4d2d9_9g1gc7qfmm740000gn/T/ipykernel_925/2592692861.py:2: FutureWarning: A value is trying to be set on a copy of a DataFrame or Series through chained assignment using an inplace method.\n",
      "The behavior will change in pandas 3.0. This inplace method will never work because the intermediate object on which we are setting values always behaves as a copy.\n",
      "\n",
      "For example, when doing 'df[col].method(value, inplace=True)', try using 'df.method({col: value}, inplace=True)' or df[col] = df[col].method(value) instead, to perform the operation inplace on the original object.\n",
      "\n",
      "\n",
      "  weatherdf[\"Humidity3pm\"].fillna(weatherdf[\"Humidity3pm\"].mean(), inplace=True)\n"
     ]
    },
    {
     "data": {
      "text/plain": [
       "Date                 0\n",
       "Location             0\n",
       "MinTemp              0\n",
       "MaxTemp              0\n",
       "Rainfall             0\n",
       "WindGustDir      10326\n",
       "WindGustSpeed        0\n",
       "WindDir9am       10566\n",
       "WindDir3pm        4228\n",
       "WindSpeed9am         0\n",
       "WindSpeed3pm         0\n",
       "Humidity9am          0\n",
       "Humidity3pm          0\n",
       "Pressure9am          0\n",
       "Pressure3pm          0\n",
       "Temp9am              0\n",
       "Temp3pm              0\n",
       "RainToday         3261\n",
       "RainTomorrow      3267\n",
       "dtype: int64"
      ]
     },
     "execution_count": 267,
     "metadata": {},
     "output_type": "execute_result"
    }
   ],
   "source": [
    "weatherdf[\"Humidity9am\"].fillna(weatherdf[\"Humidity9am\"].mean(), inplace=True)\n",
    "weatherdf[\"Humidity3pm\"].fillna(weatherdf[\"Humidity3pm\"].mean(), inplace=True)\n",
    "weatherdf.isnull().sum()"
   ]
  },
  {
   "cell_type": "markdown",
   "id": "26b07442",
   "metadata": {},
   "source": [
    "FINALLY. now on to the next step that is encoding the data. the kaggle article is suggesting using functions from scikitlearn, but im told to avoid that, so ill be using the get_dummies for this.\n",
    "actually before i do that, i should convert the date column to a datetime type."
   ]
  },
  {
   "cell_type": "code",
   "execution_count": 268,
   "id": "46a36bdc",
   "metadata": {},
   "outputs": [
    {
     "data": {
      "text/plain": [
       "np.int64(0)"
      ]
     },
     "execution_count": 268,
     "metadata": {},
     "output_type": "execute_result"
    }
   ],
   "source": [
    "weatherdf[\"Date\"] = pandas.to_datetime(weatherdf[\"Date\"], format='%Y%m%d.0', errors='coerce')\n",
    "weatherdf[\"Date\"].isnull().sum()"
   ]
  },
  {
   "cell_type": "markdown",
   "id": "f039d553",
   "metadata": {},
   "source": [
    "ok so no bad values thats good, now filling out all the objects"
   ]
  },
  {
   "cell_type": "code",
   "execution_count": 269,
   "id": "c8e1a1c3",
   "metadata": {},
   "outputs": [
    {
     "name": "stderr",
     "output_type": "stream",
     "text": [
      "/var/folders/mf/dh_37v4d2d9_9g1gc7qfmm740000gn/T/ipykernel_925/368804801.py:3: FutureWarning: A value is trying to be set on a copy of a DataFrame or Series through chained assignment using an inplace method.\n",
      "The behavior will change in pandas 3.0. This inplace method will never work because the intermediate object on which we are setting values always behaves as a copy.\n",
      "\n",
      "For example, when doing 'df[col].method(value, inplace=True)', try using 'df.method({col: value}, inplace=True)' or df[col] = df[col].method(value) instead, to perform the operation inplace on the original object.\n",
      "\n",
      "\n",
      "  weatherdf[i].fillna(weatherdf[i].mode().iloc[0], inplace=True)\n"
     ]
    }
   ],
   "source": [
    "obj = weatherdf.select_dtypes(include=['object']).drop(columns=['Location'])\n",
    "for i in obj.columns:\n",
    "    weatherdf[i].fillna(weatherdf[i].mode().iloc[0], inplace=True)"
   ]
  },
  {
   "cell_type": "markdown",
   "id": "23a3adfa",
   "metadata": {},
   "source": [
    "Checking for remaining nulls:"
   ]
  },
  {
   "cell_type": "code",
   "execution_count": 270,
   "id": "821cd0dc",
   "metadata": {},
   "outputs": [
    {
     "data": {
      "text/plain": [
       "Date             0\n",
       "Location         0\n",
       "MinTemp          0\n",
       "MaxTemp          0\n",
       "Rainfall         0\n",
       "WindGustDir      0\n",
       "WindGustSpeed    0\n",
       "WindDir9am       0\n",
       "WindDir3pm       0\n",
       "WindSpeed9am     0\n",
       "WindSpeed3pm     0\n",
       "Humidity9am      0\n",
       "Humidity3pm      0\n",
       "Pressure9am      0\n",
       "Pressure3pm      0\n",
       "Temp9am          0\n",
       "Temp3pm          0\n",
       "RainToday        0\n",
       "RainTomorrow     0\n",
       "dtype: int64"
      ]
     },
     "execution_count": 270,
     "metadata": {},
     "output_type": "execute_result"
    }
   ],
   "source": [
    "weatherdf.isnull().sum()"
   ]
  },
  {
   "cell_type": "markdown",
   "id": "0265c7db",
   "metadata": {},
   "source": [
    "Now finally getting dummies:"
   ]
  },
  {
   "cell_type": "code",
   "execution_count": 271,
   "id": "eb8e950e",
   "metadata": {},
   "outputs": [
    {
     "name": "stdout",
     "output_type": "stream",
     "text": [
      "<class 'pandas.core.frame.DataFrame'>\n",
      "RangeIndex: 145460 entries, 0 to 145459\n",
      "Data columns (total 66 columns):\n",
      " #   Column            Non-Null Count   Dtype         \n",
      "---  ------            --------------   -----         \n",
      " 0   Date              145460 non-null  datetime64[ns]\n",
      " 1   Location          145460 non-null  object        \n",
      " 2   MinTemp           145460 non-null  float64       \n",
      " 3   MaxTemp           145460 non-null  float64       \n",
      " 4   Rainfall          145460 non-null  float64       \n",
      " 5   WindGustSpeed     145460 non-null  float64       \n",
      " 6   WindSpeed9am      145460 non-null  float64       \n",
      " 7   WindSpeed3pm      145460 non-null  float64       \n",
      " 8   Humidity9am       145460 non-null  float64       \n",
      " 9   Humidity3pm       145460 non-null  float64       \n",
      " 10  Pressure9am       145460 non-null  float64       \n",
      " 11  Pressure3pm       145460 non-null  float64       \n",
      " 12  Temp9am           145460 non-null  float64       \n",
      " 13  Temp3pm           145460 non-null  float64       \n",
      " 14  WindGustDir_E     145460 non-null  bool          \n",
      " 15  WindGustDir_ENE   145460 non-null  bool          \n",
      " 16  WindGustDir_ESE   145460 non-null  bool          \n",
      " 17  WindGustDir_N     145460 non-null  bool          \n",
      " 18  WindGustDir_NE    145460 non-null  bool          \n",
      " 19  WindGustDir_NNE   145460 non-null  bool          \n",
      " 20  WindGustDir_NNW   145460 non-null  bool          \n",
      " 21  WindGustDir_NW    145460 non-null  bool          \n",
      " 22  WindGustDir_S     145460 non-null  bool          \n",
      " 23  WindGustDir_SE    145460 non-null  bool          \n",
      " 24  WindGustDir_SSE   145460 non-null  bool          \n",
      " 25  WindGustDir_SSW   145460 non-null  bool          \n",
      " 26  WindGustDir_SW    145460 non-null  bool          \n",
      " 27  WindGustDir_W     145460 non-null  bool          \n",
      " 28  WindGustDir_WNW   145460 non-null  bool          \n",
      " 29  WindGustDir_WSW   145460 non-null  bool          \n",
      " 30  WindDir9am_E      145460 non-null  bool          \n",
      " 31  WindDir9am_ENE    145460 non-null  bool          \n",
      " 32  WindDir9am_ESE    145460 non-null  bool          \n",
      " 33  WindDir9am_N      145460 non-null  bool          \n",
      " 34  WindDir9am_NE     145460 non-null  bool          \n",
      " 35  WindDir9am_NNE    145460 non-null  bool          \n",
      " 36  WindDir9am_NNW    145460 non-null  bool          \n",
      " 37  WindDir9am_NW     145460 non-null  bool          \n",
      " 38  WindDir9am_S      145460 non-null  bool          \n",
      " 39  WindDir9am_SE     145460 non-null  bool          \n",
      " 40  WindDir9am_SSE    145460 non-null  bool          \n",
      " 41  WindDir9am_SSW    145460 non-null  bool          \n",
      " 42  WindDir9am_SW     145460 non-null  bool          \n",
      " 43  WindDir9am_W      145460 non-null  bool          \n",
      " 44  WindDir9am_WNW    145460 non-null  bool          \n",
      " 45  WindDir9am_WSW    145460 non-null  bool          \n",
      " 46  WindDir3pm_E      145460 non-null  bool          \n",
      " 47  WindDir3pm_ENE    145460 non-null  bool          \n",
      " 48  WindDir3pm_ESE    145460 non-null  bool          \n",
      " 49  WindDir3pm_N      145460 non-null  bool          \n",
      " 50  WindDir3pm_NE     145460 non-null  bool          \n",
      " 51  WindDir3pm_NNE    145460 non-null  bool          \n",
      " 52  WindDir3pm_NNW    145460 non-null  bool          \n",
      " 53  WindDir3pm_NW     145460 non-null  bool          \n",
      " 54  WindDir3pm_S      145460 non-null  bool          \n",
      " 55  WindDir3pm_SE     145460 non-null  bool          \n",
      " 56  WindDir3pm_SSE    145460 non-null  bool          \n",
      " 57  WindDir3pm_SSW    145460 non-null  bool          \n",
      " 58  WindDir3pm_SW     145460 non-null  bool          \n",
      " 59  WindDir3pm_W      145460 non-null  bool          \n",
      " 60  WindDir3pm_WNW    145460 non-null  bool          \n",
      " 61  WindDir3pm_WSW    145460 non-null  bool          \n",
      " 62  RainToday_No      145460 non-null  bool          \n",
      " 63  RainToday_Yes     145460 non-null  bool          \n",
      " 64  RainTomorrow_No   145460 non-null  bool          \n",
      " 65  RainTomorrow_Yes  145460 non-null  bool          \n",
      "dtypes: bool(52), datetime64[ns](1), float64(12), object(1)\n",
      "memory usage: 22.8+ MB\n"
     ]
    }
   ],
   "source": [
    "weatherdf = pandas.get_dummies(weatherdf, columns=obj.columns)\n",
    "weatherdf.info()"
   ]
  },
  {
   "cell_type": "markdown",
   "id": "04fe4100",
   "metadata": {},
   "source": [
    "Now, i will be splitting the dataset:"
   ]
  },
  {
   "cell_type": "code",
   "execution_count": 272,
   "id": "8632df90",
   "metadata": {},
   "outputs": [],
   "source": [
    "X = weatherdf\n",
    "y = weatherdf\n",
    "\n",
    "X_train, X_test, y_train, y_split = train_test_split(X, y, test_size=0.2, random_state=42) "
   ]
  },
  {
   "cell_type": "markdown",
   "id": "535a491d",
   "metadata": {},
   "source": [
    "Finally, I will be scaling the dataset. i am over here going to do minmax scaling since i have removed the outliers already."
   ]
  },
  {
   "cell_type": "code",
   "execution_count": 273,
   "id": "459cb567",
   "metadata": {},
   "outputs": [],
   "source": [
    "scale_columns = X_train.columns[2:]\n",
    "\n",
    "mm = MinMaxScaler()\n",
    "\n",
    "X_train[scale_columns] = mm.fit_transform(X_train[scale_columns])\n",
    "X_test[scale_columns] = mm.fit_transform(X_test[scale_columns])"
   ]
  },
  {
   "cell_type": "markdown",
   "id": "8c21b15c",
   "metadata": {},
   "source": [
    "Exporting the dataframe to a new file:"
   ]
  },
  {
   "cell_type": "code",
   "execution_count": 274,
   "id": "3f0928dc",
   "metadata": {},
   "outputs": [],
   "source": [
    "X_train.to_csv(\"/Users/anay/Desktop/RoboManipal/RoboManipal_Anay/Data_Preprocessing/weatherAUS_train.csv\", index=False)\n",
    "X_test.to_csv(\"/Users/anay/Desktop/RoboManipal/RoboManipal_Anay/Data_Preprocessing/weatherAUS_test.csv\", index=False)"
   ]
  }
 ],
 "metadata": {
  "kernelspec": {
   "display_name": "base",
   "language": "python",
   "name": "python3"
  },
  "language_info": {
   "codemirror_mode": {
    "name": "ipython",
    "version": 3
   },
   "file_extension": ".py",
   "mimetype": "text/x-python",
   "name": "python",
   "nbconvert_exporter": "python",
   "pygments_lexer": "ipython3",
   "version": "3.13.5"
  }
 },
 "nbformat": 4,
 "nbformat_minor": 5
}
